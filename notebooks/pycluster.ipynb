{
 "cells": [
  {
   "cell_type": "code",
   "execution_count": null,
   "id": "e54b7018",
   "metadata": {},
   "outputs": [],
   "source": [
    "import pandas as pd\n",
    "import numpy as np\n",
    "import matplotlib.pyplot as plt\n",
    "from sklearn.cluster import KMeans\n",
    "from sklearn.preprocessing import StandardScaler"
   ]
  },
  {
   "cell_type": "code",
   "execution_count": null,
   "id": "9368fe80",
   "metadata": {},
   "outputs": [],
   "source": [
    "input_path = \"../data/notes_all.csv\""
   ]
  },
  {
   "cell_type": "code",
   "execution_count": null,
   "id": "920d5a77",
   "metadata": {},
   "outputs": [],
   "source": [
    "# Read data\n",
    "df = pd.read_csv(input_path);\n",
    "df = df.dropna();"
   ]
  },
  {
   "cell_type": "code",
   "execution_count": null,
   "id": "aa7051bb",
   "metadata": {},
   "outputs": [],
   "source": [
    "# Add column CONT as mean of TP2, TP3, TP4, TP5, TP6 and TP7\n",
    "df['CONT'] = df[['TP2', 'TP3', 'TP4', 'TP5', 'TP6', 'TP7']].mean(axis=1);\n",
    "df = df.round(1);"
   ]
  },
  {
   "cell_type": "code",
   "execution_count": null,
   "id": "d77858dd",
   "metadata": {},
   "outputs": [],
   "source": [
    "# Remove column NOM\n",
    "xdf = df.drop(columns=['NOM','EXAM','CONT'])\n",
    "#create scaled DataFrame where each variable has mean of 0 and standard dev of 1\n",
    "scaled_df = StandardScaler().fit_transform(xdf)\n",
    "# Get rid of variable xdf\n",
    "del xdf"
   ]
  },
  {
   "cell_type": "code",
   "execution_count": null,
   "id": "d8bf35f9",
   "metadata": {},
   "outputs": [],
   "source": [
    "# Find optimal clusters number\n",
    "nc_start = 2\n",
    "nc_end = 12\n",
    "wcss = []\n",
    "for i in range(nc_start, nc_end):\n",
    "    kmeans = KMeans(n_clusters=i, init='k-means++', max_iter=300, n_init=10, random_state=0)\n",
    "    kmeans.fit(scaled_df)\n",
    "    wcss.append(kmeans.inertia_)\n",
    "plt.plot(range(nc_start, nc_end), wcss)\n",
    "plt.title('The Elbow Method')\n",
    "plt.xlabel('Number of clusters')\n",
    "plt.ylabel('WCSS')\n",
    "plt.show()\n",
    "del wcss"
   ]
  },
  {
   "cell_type": "code",
   "execution_count": null,
   "id": "35cfac99",
   "metadata": {},
   "outputs": [],
   "source": [
    "n_clusters = 4  # Set the number of clusters based on the elbow method"
   ]
  },
  {
   "cell_type": "code",
   "execution_count": null,
   "id": "033b4029",
   "metadata": {},
   "outputs": [],
   "source": [
    "#instantiate the k-means class, using optimal number of clusters\n",
    "kmeans = KMeans(init=\"random\", n_clusters=n_clusters, n_init=10, random_state=1)\n",
    "\n",
    "#fit k-means algorithm to data\n",
    "kmeans.fit(scaled_df)\n",
    "\n",
    "#view cluster assignments for each observation\n",
    "df[\"CLUSTER\"]  = kmeans.labels_"
   ]
  },
  {
   "cell_type": "code",
   "execution_count": null,
   "id": "292eeb16",
   "metadata": {},
   "outputs": [],
   "source": [
    "del kmeans\n",
    "del scaled_df"
   ]
  }
 ],
 "metadata": {
  "kernelspec": {
   "display_name": "infoenv",
   "language": "python",
   "name": "python3"
  },
  "language_info": {
   "codemirror_mode": {
    "name": "ipython",
    "version": 3
   },
   "file_extension": ".py",
   "mimetype": "text/x-python",
   "name": "python",
   "nbconvert_exporter": "python",
   "pygments_lexer": "ipython3",
   "version": "3.13.2"
  }
 },
 "nbformat": 4,
 "nbformat_minor": 5
}
