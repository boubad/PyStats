{
 "cells": [
  {
   "cell_type": "code",
   "execution_count": 2,
   "id": "2ebbf5ce",
   "metadata": {},
   "outputs": [],
   "source": [
    "import pathlib\n",
    "import sys\n",
    "sys.path.insert(0, str(pathlib.Path.cwd().parent))\n",
    "import numpy as np"
   ]
  },
  {
   "cell_type": "code",
   "execution_count": 3,
   "id": "b50b72f8",
   "metadata": {},
   "outputs": [],
   "source": [
    "from info import datautils"
   ]
  },
  {
   "cell_type": "code",
   "execution_count": 8,
   "id": "f5c6c8bf",
   "metadata": {},
   "outputs": [],
   "source": [
    "data = np.random.random(24)\n",
    "classes = datautils.bertin_classes(data, nclasses=2)\n",
    "nc = len(classes)"
   ]
  }
 ],
 "metadata": {
  "kernelspec": {
   "display_name": "infoenv",
   "language": "python",
   "name": "python3"
  },
  "language_info": {
   "codemirror_mode": {
    "name": "ipython",
    "version": 3
   },
   "file_extension": ".py",
   "mimetype": "text/x-python",
   "name": "python",
   "nbconvert_exporter": "python",
   "pygments_lexer": "ipython3",
   "version": "3.13.2"
  }
 },
 "nbformat": 4,
 "nbformat_minor": 5
}
