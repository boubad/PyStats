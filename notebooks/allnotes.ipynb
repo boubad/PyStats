{
 "cells": [
  {
   "cell_type": "code",
   "execution_count": 8,
   "id": "977d0142",
   "metadata": {},
   "outputs": [],
   "source": [
    "import pathlib\n",
    "import sys\n",
    "sys.path.insert(0, str(pathlib.Path.cwd().parent))"
   ]
  },
  {
   "cell_type": "code",
   "execution_count": 9,
   "id": "3d111637",
   "metadata": {},
   "outputs": [],
   "source": [
    "from info import datautils"
   ]
  },
  {
   "cell_type": "code",
   "execution_count": 10,
   "id": "e4f2a78d",
   "metadata": {},
   "outputs": [],
   "source": [
    "import pandas as pd\n",
    "# import numpy as np\n",
    "# from scipy import stats\n",
    "import seaborn as sns\n",
    "# from sklearn.preprocessing import StandardScaler\n",
    "from sklearn.decomposition import PCA\n",
    "import matplotlib.pyplot as plt\n",
    "from sklearn.cluster import KMeans\n",
    "from sklearn.metrics import silhouette_score\n",
    "# ================\n",
    "sns.set_theme(style=\"whitegrid\")"
   ]
  },
  {
   "cell_type": "code",
   "execution_count": 11,
   "id": "3d828ece",
   "metadata": {},
   "outputs": [],
   "source": [
    "in_csvfilename = '../data/notes_all.csv'"
   ]
  },
  {
   "cell_type": "code",
   "execution_count": 14,
   "id": "523597ee",
   "metadata": {},
   "outputs": [],
   "source": [
    "df = pd.read_csv(in_csvfilename)\n",
    "df = df.dropna()"
   ]
  },
  {
   "cell_type": "code",
   "execution_count": 15,
   "id": "cc90e59c",
   "metadata": {},
   "outputs": [],
   "source": [
    "def convert_annee_to_int(annee):\n",
    "    if annee == 'A2017':\n",
    "        return 0\n",
    "    elif annee == 'A2018':\n",
    "        return 1\n",
    "    elif annee == 'A2019':\n",
    "        return 2\n",
    "    elif annee == 'A2020':\n",
    "        return 3\n",
    "    else:\n",
    "        return 4    \n",
    "# =====================\n",
    "istart_var = 1\n",
    "ilast_var = df.shape[1] - 1\n",
    "# =====================\n",
    "df['CATEGS'] = df['ANNEE'].apply(convert_annee_to_int)\n",
    "df['CONT'] = ((df['TP2'] + df['TP3'] + df['TP4'] + df['TP5'] + df['TP6'] + df['TP7']) / 6.0).round(1)\n",
    "df['EXAM0'] = df['EXAM']\n",
    "# =====================²\n",
    "nc = 5\n",
    "for col in df.columns[istart_var:ilast_var]:\n",
    "    tv = datautils.bertin_classes(df[col].values,nclasses=nc)\n",
    "    df[col] = tv\n",
    "# =====================\n",
    "cdf = df.iloc[:, istart_var:ilast_var]\n",
    "varsnames = cdf.columns.values\n",
    "# =====================\n",
    "indexes = df['NOM'].values\n",
    "df = df.drop(columns=['NOM'])\n",
    "# df.index = indexes"
   ]
  },
  {
   "cell_type": "code",
   "execution_count": 16,
   "id": "dd1ea881",
   "metadata": {},
   "outputs": [
    {
     "data": {
      "image/png": "[encoded data removed]",
      "text/plain": [
       "<Figure size 640x480 with 2 Axes>"
      ]
     },
     "metadata": {},
     "output_type": "display_data"
    }
   ],
   "source": [
    "sns.set_theme()\n",
    "# define dimensions of subplots (rows, columns)\n",
    "fig, axes = plt.subplots(2, 1, sharex=True)\n",
    "\n",
    "# create chart in each subplot\n",
    "# sns.displot(penguins, x=\"flipper_length_mm\", kind=\"kde\")\n",
    "sns.boxplot(data=df, x=\"ANNEE\", y=\"CONT\", ax=axes[0])\n",
    "sns.boxplot(data=df, x=\"ANNEE\", y=\"EXAM0\", ax=axes[1])\n",
    "plt.show()"
   ]
  },
  {
   "cell_type": "code",
   "execution_count": null,
   "id": "cc412d21",
   "metadata": {},
   "outputs": [],
   "source": [
    "X = cdf.values"
   ]
  },
  {
   "cell_type": "code",
   "execution_count": null,
   "id": "2ea32af2",
   "metadata": {},
   "outputs": [],
   "source": [
    "pca = PCA(n_components=2)\n",
    "principalComponents = pca.fit_transform(X)\n",
    "PC_scores = pd.DataFrame(principalComponents, columns=[\"PC1\", \"PC2\"])\n",
    "loadings = pd.DataFrame(pca.components_.T, columns=[\"PC1\", \"PC2\"], index=varsnames)\n",
    "PC1 = pca.fit_transform(X)[:, 0]\n",
    "PC2 = pca.fit_transform(X)[:, 1]\n",
    "df['PC1'] = PC1.round(3)\n",
    "df['PC2']  = PC2.round(3)\n",
    "ldngs = pca.components_\n",
    "scalePC1 = 1.0 / (PC1.max() - PC1.min())\n",
    "scalePC2 = 1.0 / (PC2.max() - PC2.min())"
   ]
  },
  {
   "cell_type": "code",
   "execution_count": null,
   "id": "4004634e",
   "metadata": {},
   "outputs": [],
   "source": [
    "sns.set_theme()\n",
    "fig, ax = plt.subplots()\n",
    "for i, feature in enumerate(varsnames):\n",
    "    ax.arrow(\n",
    "        0, 0, ldngs[0, i], ldngs[1, i], head_width=0.03, head_length=0.03, color=\"red\"\n",
    "    )\n",
    "    ax.text(ldngs[0, i] * 1.15, ldngs[1, i] * 1.15, feature, color=\"red\", fontsize=18)\n",
    "ax.set_xlabel(\"PC1\", fontsize=20, color=\"black\")\n",
    "ax.set_ylabel(\"PC2\", fontsize=20, color=\"black\")\n",
    "ax.set_title(\"TP Tableurs (2016-2020)\", fontsize=20, color=\"black\")\n",
    "plt.show()"
   ]
  },
  {
   "cell_type": "code",
   "execution_count": null,
   "id": "e2e8f2a4",
   "metadata": {},
   "outputs": [],
   "source": [
    "sns.set_theme()\n",
    "fig, ax = plt.subplots()\n",
    "scatter = ax.scatter(\n",
    "    PC1, PC2, c=df['CATEGS'], cmap='viridis', s=100, alpha=0.7\n",
    ")\n",
    "ax.set_xlabel(\"PC1\", fontsize=20, color=\"black\")\n",
    "ax.set_ylabel(\"PC2\", fontsize=20, color=\"black\")\n",
    "ax.set_title(\"TP Tableurs (2016-2020)\", fontsize=20, color=\"black\")\n",
    "plt.show()"
   ]
  },
  {
   "cell_type": "code",
   "execution_count": null,
   "id": "b168e1c8",
   "metadata": {},
   "outputs": [],
   "source": [
    "sns.set_theme()\n",
    "fig, ax = plt.subplots()\n",
    "scatter = ax.scatter(\n",
    "    df['CONT'], df['EXAM0'], c=df['CATEGS'], cmap='viridis', s=100, alpha=0.7\n",
    ")\n",
    "ax.set_xlabel(\"CONT\", fontsize=20, color=\"black\")\n",
    "ax.set_ylabel(\"EXAM\", fontsize=20, color=\"black\")\n",
    "ax.set_title(\"TP Tableurs (2016-2020)\", fontsize=20, color=\"black\")\n",
    "plt.show()"
   ]
  },
  {
   "cell_type": "code",
   "execution_count": null,
   "id": "a29a234d",
   "metadata": {},
   "outputs": [],
   "source": [
    "scaled_X = df[['PC1', 'PC2']].values\n",
    "kmeans_kwargs = {\n",
    "    \"init\": \"random\",\n",
    "    \"n_init\": 20,\n",
    "    \"max_iter\": 400,\n",
    "    \"random_state\": 42,\n",
    "}"
   ]
  },
  {
   "cell_type": "code",
   "execution_count": null,
   "id": "37936371",
   "metadata": {},
   "outputs": [],
   "source": [
    "# A list holds the SSE values for each k\n",
    "kstart = 2\n",
    "kend = 16\n",
    "krange = range(kstart, kend)\n",
    "sse = []\n",
    "for k in krange:\n",
    "    kmeans = KMeans(n_clusters=k, **kmeans_kwargs)\n",
    "    kmeans.fit(scaled_X)\n",
    "    sse.append(kmeans.inertia_)\n",
    "# A list holds the silhouette coefficients for each k\n",
    "silhouette_coefficients = []\n",
    "# Notice you start at 2 clusters for silhouette coefficient\n",
    "for k in krange:\n",
    "    kmeans = KMeans(n_clusters=k, **kmeans_kwargs)\n",
    "    kmeans.fit(scaled_X)\n",
    "    score = silhouette_score(scaled_X, kmeans.labels_)\n",
    "    silhouette_coefficients.append(score)\n",
    "# Create two subplots and unpack the output array immediately\n",
    "f, (ax1, ax2) = plt.subplots(2, 1, sharex=True)\n",
    "plt.xlabel(\"Number of Clusters\")\n",
    "ax1.plot(krange, sse)\n",
    "ax2.plot(krange, silhouette_coefficients)\n",
    "f.suptitle(\"Elbow and Silhouette Plots\")\n",
    "plt.show()"
   ]
  }
 ],
 "metadata": {
  "kernelspec": {
   "display_name": "infoenv",
   "language": "python",
   "name": "python3"
  },
  "language_info": {
   "codemirror_mode": {
    "name": "ipython",
    "version": 3
   },
   "file_extension": ".py",
   "mimetype": "text/x-python",
   "name": "python",
   "nbconvert_exporter": "python",
   "pygments_lexer": "ipython3",
   "version": "3.13.2"
  }
 },
 "nbformat": 4,
 "nbformat_minor": 5
}
