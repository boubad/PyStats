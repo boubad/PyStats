{
 "cells": [
  {
   "cell_type": "code",
   "execution_count": null,
   "id": "977d0142",
   "metadata": {},
   "outputs": [],
   "source": [
    "import pathlib\n",
    "import sys\n",
    "sys.path.insert(0, str(pathlib.Path.cwd().parent))"
   ]
  },
  {
   "cell_type": "code",
   "execution_count": null,
   "id": "e4f2a78d",
   "metadata": {},
   "outputs": [],
   "source": [
    "import pandas as pd\n",
    "# import numpy as np\n",
    "# from scipy import stats\n",
    "import seaborn as sns\n",
    "from sklearn.preprocessing import StandardScaler\n",
    "from sklearn.decomposition import PCA\n",
    "import matplotlib.pyplot as plt\n",
    "# from sklearn.cluster import KMeans\n",
    "# from sklearn.metrics import silhouette_score"
   ]
  },
  {
   "cell_type": "code",
   "execution_count": null,
   "id": "3d828ece",
   "metadata": {},
   "outputs": [],
   "source": [
    "in_csvfilename = '../data/notes_all.csv'\n",
    "out_csvfilename = '../data/notes_all_pca.csv'"
   ]
  },
  {
   "cell_type": "code",
   "execution_count": null,
   "id": "523597ee",
   "metadata": {},
   "outputs": [],
   "source": [
    "xdf = pd.read_csv(in_csvfilename)\n",
    "xdf = xdf.dropna()"
   ]
  },
  {
   "cell_type": "code",
   "execution_count": null,
   "id": "d4588783",
   "metadata": {},
   "outputs": [],
   "source": [
    "indexes = xdf['NOM'].values\n",
    "xdf = xdf.drop(columns=['NOM'])\n",
    "columns = xdf.columns.values\n",
    "data  = xdf.values"
   ]
  },
  {
   "cell_type": "code",
   "execution_count": null,
   "id": "2368cfd2",
   "metadata": {},
   "outputs": [],
   "source": [
    "def cpnvert_annee_to_int(annee):\n",
    "    if annee == 'A2017':\n",
    "        return 0\n",
    "    elif annee == 'A2018':\n",
    "        return 1\n",
    "    elif annee == 'A2019':\n",
    "        return 2\n",
    "    elif annee == 'A2020':\n",
    "        return 3\n",
    "    else:\n",
    "        return 4\n",
    "df = pd.DataFrame(data, index=indexes, columns=columns)\n",
    "labels_groups = df['ANNEE']\n",
    "xdf = df.drop(columns=['ANNEE'])\n",
    "varsnames = xdf.columns.values"
   ]
  },
  {
   "cell_type": "code",
   "execution_count": null,
   "id": "54d5f5e5",
   "metadata": {},
   "outputs": [],
   "source": [
    "scaler = StandardScaler()\n",
    "scaled_features = scaler.fit_transform(xdf)\n",
    "df['CATEGS'] = df['ANNEE'].apply(cpnvert_annee_to_int)\n",
    "df['CONT'] = ((df['TP2'] + df['TP3'] + df['TP4'] + df['TP5'] + df['TP6'] + df['TP7']) / 6.0).round(1)"
   ]
  },
  {
   "cell_type": "code",
   "execution_count": null,
   "id": "2ea32af2",
   "metadata": {},
   "outputs": [],
   "source": [
    "pca = PCA(n_components=2)\n",
    "principalComponents = pca.fit_transform(scaled_features)\n",
    "PC_scores = pd.DataFrame(principalComponents, columns=[\"PC1\", \"PC2\"])\n",
    "loadings = pd.DataFrame(pca.components_.T, columns=[\"PC1\", \"PC2\"], index=varsnames)\n",
    "PC1 = pca.fit_transform(scaled_features)[:, 0]\n",
    "PC2 = pca.fit_transform(scaled_features)[:, 1]\n",
    "df['PC1'] = PC1.round(3)\n",
    "df['PC2']  = PC2.round(3)\n",
    "ldngs = pca.components_\n",
    "scalePC1 = 1.0 / (PC1.max() - PC1.min())\n",
    "scalePC2 = 1.0 / (PC2.max() - PC2.min())"
   ]
  },
  {
   "cell_type": "code",
   "execution_count": null,
   "id": "4004634e",
   "metadata": {},
   "outputs": [],
   "source": [
    "sns.set_theme()\n",
    "fig, ax = plt.subplots()\n",
    "for i, feature in enumerate(varsnames):\n",
    "    ax.arrow(\n",
    "        0, 0, ldngs[0, i], ldngs[1, i], head_width=0.03, head_length=0.03, color=\"red\"\n",
    "    )\n",
    "    ax.text(ldngs[0, i] * 1.15, ldngs[1, i] * 1.15, feature, color=\"red\", fontsize=18)\n",
    "ax.set_xlabel(\"PC1\", fontsize=20, color=\"black\")\n",
    "ax.set_ylabel(\"PC2\", fontsize=20, color=\"black\")\n",
    "ax.set_title(\"TP Tableurs (2016-2020)\", fontsize=20, color=\"black\")\n",
    "plt.show()"
   ]
  },
  {
   "cell_type": "code",
   "execution_count": null,
   "id": "e2e8f2a4",
   "metadata": {},
   "outputs": [],
   "source": [
    "sns.set_theme()\n",
    "fig, ax = plt.subplots()\n",
    "scatter = ax.scatter(\n",
    "    PC1, PC2, c=df['CATEGS'], cmap='viridis', s=100, alpha=0.7\n",
    ")\n",
    "ax.set_xlabel(\"PC1\", fontsize=20, color=\"black\")\n",
    "ax.set_ylabel(\"PC2\", fontsize=20, color=\"black\")\n",
    "ax.set_title(\"TP Tableurs (2016-2020)\", fontsize=20, color=\"black\")\n",
    "plt.show()"
   ]
  },
  {
   "cell_type": "code",
   "execution_count": null,
   "id": "b168e1c8",
   "metadata": {},
   "outputs": [],
   "source": [
    "sns.set_theme()\n",
    "fig, ax = plt.subplots()\n",
    "scatter = ax.scatter(\n",
    "    df['CONT'], df['EXAM'], c=df['CATEGS'], cmap='viridis', s=100, alpha=0.7\n",
    ")\n",
    "ax.set_xlabel(\"CONT\", fontsize=20, color=\"black\")\n",
    "ax.set_ylabel(\"EXAM\", fontsize=20, color=\"black\")\n",
    "ax.set_title(\"TP Tableurs (2016-2020)\", fontsize=20, color=\"black\")\n",
    "plt.show()"
   ]
  }
 ],
 "metadata": {
  "kernelspec": {
   "display_name": "infoenv",
   "language": "python",
   "name": "python3"
  },
  "language_info": {
   "codemirror_mode": {
    "name": "ipython",
    "version": 3
   },
   "file_extension": ".py",
   "mimetype": "text/x-python",
   "name": "python",
   "nbconvert_exporter": "python",
   "pygments_lexer": "ipython3",
   "version": "3.13.2"
  }
 },
 "nbformat": 4,
 "nbformat_minor": 5
}
